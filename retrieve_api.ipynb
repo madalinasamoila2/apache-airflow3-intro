{
 "cells": [
  {
   "cell_type": "markdown",
   "id": "63b7a2fc",
   "metadata": {},
   "source": [
    "json.load() - read JSON file & convert into a python dictionary/list\n"
   ]
  },
  {
   "cell_type": "markdown",
   "id": "a593c369",
   "metadata": {},
   "source": [
    "json.loads() - convert JSON String to a dictionary\n",
    "\n"
   ]
  },
  {
   "cell_type": "markdown",
   "id": "e0dff91e",
   "metadata": {},
   "source": [
    "json.dump() - writes JSON directly to a JSON file like OBJECT \n"
   ]
  },
  {
   "cell_type": "markdown",
   "id": "1021dbec",
   "metadata": {},
   "source": [
    "json.dumps() - returns JSON string representation of the python DICT{'age':59} to {\"age\":59} \n"
   ]
  },
  {
   "cell_type": "code",
   "execution_count": 14,
   "id": "1f33fe49",
   "metadata": {},
   "outputs": [],
   "source": [
    "import pprint\n",
    "import requests \n",
    "import pandas as pd\n",
    "import mysql.connector\n",
    "from sqlalchemy import create_engine\n",
    "from dotenv import load_dotenv\n",
    "import os\n",
    "import csv\n"
   ]
  },
  {
   "cell_type": "code",
   "execution_count": 15,
   "id": "b6ee0a1a",
   "metadata": {},
   "outputs": [
    {
     "name": "stdout",
     "output_type": "stream",
     "text": [
      "2025-07-01 00:00:00\n"
     ]
    }
   ],
   "source": [
    "import datetime\n",
    "\n",
    "now = datetime.datetime(2025,7,1)\n",
    "print(now)"
   ]
  },
  {
   "cell_type": "code",
   "execution_count": 16,
   "id": "dde40097",
   "metadata": {},
   "outputs": [
    {
     "name": "stdout",
     "output_type": "stream",
     "text": [
      "{'latitude': 51.5,\n",
      " 'longitude': 0.119999886,\n",
      " 'generationtime_ms': 0.07724761962890625,\n",
      " 'utc_offset_seconds': 3600,\n",
      " 'timezone': 'Europe/London',\n",
      " 'timezone_abbreviation': 'GMT+1',\n",
      " 'elevation': 3.0,\n",
      " 'current_units': {'time': 'iso8601',\n",
      "                   'interval': 'seconds',\n",
      "                   'temperature_2m': '°C',\n",
      "                   'relative_humidity_2m': '%',\n",
      "                   'wind_speed_10m': 'km/h',\n",
      "                   'rain': 'mm',\n",
      "                   'precipitation': 'mm',\n",
      "                   'weather_code': 'wmo code'},\n",
      " 'current': {'time': '2025-07-21T12:45',\n",
      "             'interval': 900,\n",
      "             'temperature_2m': 18.6,\n",
      "             'relative_humidity_2m': 73,\n",
      "             'wind_speed_10m': 6.2,\n",
      "             'rain': 3.4,\n",
      "             'precipitation': 3.4,\n",
      "             'weather_code': 2}}\n",
      "         date              time  temperature  relative_humidity  wind_speed  \\\n",
      "0  2025-07-21  2025-07-21T12:45         18.6                 73         6.2   \n",
      "\n",
      "   rain  precipitation  weather_code  \n",
      "0   3.4            3.4             2  \n"
     ]
    }
   ],
   "source": [
    "url = \"https://api.open-meteo.com/v1/forecast?latitude=51.5072&longitude=0.1276&current=temperature_2m,relative_humidity_2m,wind_speed_10m,rain,precipitation,weather_code&timezone=Europe%2FLondon\"\n",
    "response = requests.get(url)\n",
    "data = response.json()\n",
    "pprint.pp(data)\n",
    "\n",
    "from datetime import datetime\n",
    "summary = {\n",
    "    \"date\":datetime.now().strftime(\"%Y-%m-%d\"),\n",
    "    \"time\": data[\"current\"][\"time\"],\n",
    "    \"temperature\":data[\"current\"][\"temperature_2m\"],\n",
    "    \"relative_humidity\": data[\"current\"][\"relative_humidity_2m\"],\n",
    "    \"wind_speed\": data[\"current\"][\"wind_speed_10m\"],\n",
    "    \"rain\": data[\"current\"][\"rain\"],\n",
    "    \"precipitation\": data[\"current\"][\"precipitation\"],\n",
    "    \"weather_code\": data[\"current\"][\"weather_code\"]\n",
    "}\n",
    "df = pd.DataFrame([summary])\n",
    "\n",
    "print(df)"
   ]
  },
  {
   "cell_type": "code",
   "execution_count": 17,
   "id": "c3870f97",
   "metadata": {},
   "outputs": [],
   "source": [
    "# export as csv\n",
    "filename = f\"/Users/madalinasamoila/airflow-weather-project/hourly_summary_{summary['date']}.csv\"\n",
    "df.to_csv(filename, index= False)"
   ]
  },
  {
   "cell_type": "code",
   "execution_count": 18,
   "id": "f4ddfbe7",
   "metadata": {},
   "outputs": [
    {
     "data": {
      "text/html": [
       "<div>\n",
       "<style scoped>\n",
       "    .dataframe tbody tr th:only-of-type {\n",
       "        vertical-align: middle;\n",
       "    }\n",
       "\n",
       "    .dataframe tbody tr th {\n",
       "        vertical-align: top;\n",
       "    }\n",
       "\n",
       "    .dataframe thead th {\n",
       "        text-align: right;\n",
       "    }\n",
       "</style>\n",
       "<table border=\"1\" class=\"dataframe\">\n",
       "  <thead>\n",
       "    <tr style=\"text-align: right;\">\n",
       "      <th></th>\n",
       "      <th>date</th>\n",
       "      <th>time</th>\n",
       "      <th>temperature</th>\n",
       "      <th>relative_humidity</th>\n",
       "      <th>wind_speed</th>\n",
       "      <th>rain</th>\n",
       "      <th>precipitation</th>\n",
       "      <th>weather_code</th>\n",
       "    </tr>\n",
       "  </thead>\n",
       "  <tbody>\n",
       "    <tr>\n",
       "      <th>0</th>\n",
       "      <td>2025-07-21</td>\n",
       "      <td>2025-07-21T12:45</td>\n",
       "      <td>18.6</td>\n",
       "      <td>73</td>\n",
       "      <td>6.2</td>\n",
       "      <td>3.4</td>\n",
       "      <td>3.4</td>\n",
       "      <td>2</td>\n",
       "    </tr>\n",
       "  </tbody>\n",
       "</table>\n",
       "</div>"
      ],
      "text/plain": [
       "         date              time  temperature  relative_humidity  wind_speed  \\\n",
       "0  2025-07-21  2025-07-21T12:45         18.6                 73         6.2   \n",
       "\n",
       "   rain  precipitation  weather_code  \n",
       "0   3.4            3.4             2  "
      ]
     },
     "execution_count": 18,
     "metadata": {},
     "output_type": "execute_result"
    }
   ],
   "source": [
    "input_file = f\"/Users/madalinasamoila/airflow-weather-project/hourly_summary_2025-07-21.csv\"\n",
    "output_file =  f\"/Users/madalinasamoila/airflow-weather-project/daily_summary_2025-07-21.csv\"\n",
    "df = pd.read_csv(input_file)\n",
    "df"
   ]
  },
  {
   "cell_type": "code",
   "execution_count": 19,
   "id": "eb48ba3c",
   "metadata": {},
   "outputs": [
    {
     "name": "stdout",
     "output_type": "stream",
     "text": [
      "Saved daily summary to /Users/madalinasamoila/airflow-weather-project/daily_summary_2025-07-21.csv\n"
     ]
    }
   ],
   "source": [
    "# Create new dataframe to store daily_summary data\n",
    "summary = {\n",
    "    \"date\": df[\"date\"].iloc[0],\n",
    "    \"min_temperature\": df[\"temperature\"].min(),\n",
    "    \"max_temperature\": df[\"temperature\"].min(),\n",
    "    \"avg_wind_speed\": round(df[\"wind_speed\"].mean(), 2),\n",
    "    \"rain_expected\": df[\"rain\"].sum() > 0\n",
    "}\n",
    "\n",
    "df_summary = pd.DataFrame([summary])\n",
    "\n",
    "df_summary.to_csv(output_file, index= False)\n",
    "print(f\"Saved daily summary to {output_file}\")"
   ]
  },
  {
   "cell_type": "code",
   "execution_count": 20,
   "id": "d3bc0346",
   "metadata": {},
   "outputs": [],
   "source": [
    "from datetime import datetime, timedelta\n",
    "import pandas as pd\n",
    "import os"
   ]
  },
  {
   "cell_type": "code",
   "execution_count": 21,
   "id": "719de8ab",
   "metadata": {},
   "outputs": [
    {
     "data": {
      "text/plain": [
       "'2025-07-21'"
      ]
     },
     "execution_count": 21,
     "metadata": {},
     "output_type": "execute_result"
    }
   ],
   "source": [
    "yesterday = (datetime.now() - timedelta(days=1)).strftime(\"%Y-%m-%d\")\n",
    "today = (datetime.now()).strftime(\"%Y-%m-%d\")\n",
    "today"
   ]
  },
  {
   "cell_type": "code",
   "execution_count": 22,
   "id": "e407ec0b",
   "metadata": {},
   "outputs": [
    {
     "data": {
      "text/html": [
       "<div>\n",
       "<style scoped>\n",
       "    .dataframe tbody tr th:only-of-type {\n",
       "        vertical-align: middle;\n",
       "    }\n",
       "\n",
       "    .dataframe tbody tr th {\n",
       "        vertical-align: top;\n",
       "    }\n",
       "\n",
       "    .dataframe thead th {\n",
       "        text-align: right;\n",
       "    }\n",
       "</style>\n",
       "<table border=\"1\" class=\"dataframe\">\n",
       "  <thead>\n",
       "    <tr style=\"text-align: right;\">\n",
       "      <th></th>\n",
       "      <th>date</th>\n",
       "      <th>time</th>\n",
       "      <th>temperature</th>\n",
       "      <th>relative_humidity</th>\n",
       "      <th>wind_speed</th>\n",
       "      <th>rain</th>\n",
       "      <th>precipitation</th>\n",
       "      <th>weather_code</th>\n",
       "    </tr>\n",
       "  </thead>\n",
       "  <tbody>\n",
       "    <tr>\n",
       "      <th>0</th>\n",
       "      <td>2025-07-21</td>\n",
       "      <td>2025-07-21T12:45</td>\n",
       "      <td>18.6</td>\n",
       "      <td>73</td>\n",
       "      <td>6.2</td>\n",
       "      <td>3.4</td>\n",
       "      <td>3.4</td>\n",
       "      <td>2</td>\n",
       "    </tr>\n",
       "  </tbody>\n",
       "</table>\n",
       "</div>"
      ],
      "text/plain": [
       "         date              time  temperature  relative_humidity  wind_speed  \\\n",
       "0  2025-07-21  2025-07-21T12:45         18.6                 73         6.2   \n",
       "\n",
       "   rain  precipitation  weather_code  \n",
       "0   3.4            3.4             2  "
      ]
     },
     "execution_count": 22,
     "metadata": {},
     "output_type": "execute_result"
    }
   ],
   "source": [
    "input_file = f\"/Users/madalinasamoila/airflow-weather-project/hourly_summary_2025-07-21.csv\"\n",
    "output_file =  f\"/Users/madalinasamoila/airflow-weather-project/daily_summary_2025-07-21.csv\"\n",
    "df = pd.read_csv(input_file)\n",
    "df"
   ]
  },
  {
   "cell_type": "code",
   "execution_count": 23,
   "id": "7e2a89f6",
   "metadata": {},
   "outputs": [],
   "source": [
    "\n",
    "summary_file = f\"/Users/madalinasamoila/airflow-weather-project/daily_summary_2025-07-21.csv\"\n",
    "hourly_file = f\"/Users/madalinasamoila/airflow-weather-project/hourly_summary_2025-07-21.csv\"\n",
    "df_summary = pd.read_csv(summary_file)\n",
    "df_hourly = pd.read_csv(hourly_file)"
   ]
  },
  {
   "cell_type": "code",
   "execution_count": 24,
   "id": "653ebc53",
   "metadata": {},
   "outputs": [
    {
     "data": {
      "text/html": [
       "<div>\n",
       "<style scoped>\n",
       "    .dataframe tbody tr th:only-of-type {\n",
       "        vertical-align: middle;\n",
       "    }\n",
       "\n",
       "    .dataframe tbody tr th {\n",
       "        vertical-align: top;\n",
       "    }\n",
       "\n",
       "    .dataframe thead th {\n",
       "        text-align: right;\n",
       "    }\n",
       "</style>\n",
       "<table border=\"1\" class=\"dataframe\">\n",
       "  <thead>\n",
       "    <tr style=\"text-align: right;\">\n",
       "      <th></th>\n",
       "      <th>date</th>\n",
       "      <th>time</th>\n",
       "      <th>temperature</th>\n",
       "      <th>relative_humidity</th>\n",
       "      <th>wind_speed</th>\n",
       "      <th>rain</th>\n",
       "      <th>precipitation</th>\n",
       "      <th>weather_code</th>\n",
       "    </tr>\n",
       "  </thead>\n",
       "  <tbody>\n",
       "    <tr>\n",
       "      <th>0</th>\n",
       "      <td>2025-07-21</td>\n",
       "      <td>2025-07-21T12:45</td>\n",
       "      <td>18.6</td>\n",
       "      <td>73</td>\n",
       "      <td>6.2</td>\n",
       "      <td>3.4</td>\n",
       "      <td>3.4</td>\n",
       "      <td>2</td>\n",
       "    </tr>\n",
       "  </tbody>\n",
       "</table>\n",
       "</div>"
      ],
      "text/plain": [
       "         date              time  temperature  relative_humidity  wind_speed  \\\n",
       "0  2025-07-21  2025-07-21T12:45         18.6                 73         6.2   \n",
       "\n",
       "   rain  precipitation  weather_code  \n",
       "0   3.4            3.4             2  "
      ]
     },
     "execution_count": 24,
     "metadata": {},
     "output_type": "execute_result"
    }
   ],
   "source": [
    "df_hourly"
   ]
  },
  {
   "cell_type": "code",
   "execution_count": 25,
   "id": "adf32c1b",
   "metadata": {},
   "outputs": [
    {
     "name": "stdout",
     "output_type": "stream",
     "text": [
      "✅ No extreme weather conditions detected today.\n"
     ]
    }
   ],
   "source": [
    "rain_codes = {51, 53, 55, 56, 57, 61, 63, 65, 66, 67, 80, 81, 82}\n",
    "snow_codes = {71, 73, 75, 77, 85, 86}\n",
    "thunderstorm_codes = {95, 96, 99}\n",
    "snow_expected = any(df_hourly[\"weather_code\"].isin(snow_codes))\n",
    "\n",
    "temp = df_summary.loc[0,\"max_temperature\"]\n",
    "rain_expected = df_summary.loc[0,\"rain_expected\"]\n",
    "snow_expected = 'False'\n",
    "\n",
    "alert_messages = []\n",
    "\n",
    "weather_codes_today = set(df_hourly[\"weather_code\"].dropna().astype(int))\n",
    "\n",
    "if weather_codes_today & rain_codes:\n",
    "    alert_messages.append(f\"🌧️ Rain expected today. Weather code is {weather_codes_today}. Take precautions.\")\n",
    "\n",
    "# Snow alert\n",
    "if weather_codes_today & snow_codes:\n",
    "    alert_messages.append(\"❄️ Snow expected today. Weather code is {weather_codes_today}. Schedule maintenance.\")\n",
    "\n",
    "# Thunderstorm alert\n",
    "if weather_codes_today & thunderstorm_codes:\n",
    "    alert_messages.append(\"⛈️ Thunderstorm alert! Weather code is {weather_codes_today}. Stay safe and prepare response teams.\")\n",
    "\n",
    "if alert_messages:\n",
    "    alert_text = \"\\n\".join(alert_messages)\n",
    "    print(alert_text)\n",
    "        # Optional: send_email(to=\"your_email@example.com\", subject=\"Extreme Weather Alert\", html_content=alert_text)\n",
    "else:\n",
    "    print(\"✅ No extreme weather conditions detected today.\")\n",
    "\n",
    "    \n"
   ]
  },
  {
   "cell_type": "code",
   "execution_count": 28,
   "id": "c7558c4d",
   "metadata": {},
   "outputs": [],
   "source": [
    "import mysql.connector\n",
    "def load_df(df, table_name):\n",
    "    try:\n",
    "        # Get database credentials from .env file\n",
    "        db_host = \"localhost\"\n",
    "        db_user = \"root\"\n",
    "        db_password = ''\n",
    "        db_database = \"apache_weather_data\"\n",
    "\n",
    "        # Create a connection to the database\n",
    "        conn = mysql.connector.connect(\n",
    "            host=db_host, user=db_user, password=db_password, database=db_database\n",
    "        )\n",
    "\n",
    "        # Create a SQLAlchemy engine\n",
    "        engine = create_engine(\n",
    "            f\"mysql+mysqlconnector://{db_user}:{db_password}@{db_host}/{db_database}\"\n",
    "        )\n",
    "\n",
    "        # Insert DataFrame into a SQL table, with a name of table_name given\n",
    "        df.to_sql(name=table_name, con=engine, if_exists=\"replace\", index=False)\n",
    "\n",
    "        # Close the database connection\n",
    "        conn.close()\n",
    "\n",
    "    except Exception as error:\n",
    "        print(f\"An error occurred: {error}\")\n",
    "\n",
    "load_df(df_hourly, 'weather_hourly')\n",
    "load_df(df_summary, 'weather_daily_summary')\n"
   ]
  }
 ],
 "metadata": {
  "kernelspec": {
   "display_name": "Python 3",
   "language": "python",
   "name": "python3"
  },
  "language_info": {
   "codemirror_mode": {
    "name": "ipython",
    "version": 3
   },
   "file_extension": ".py",
   "mimetype": "text/x-python",
   "name": "python",
   "nbconvert_exporter": "python",
   "pygments_lexer": "ipython3",
   "version": "3.12.4"
  }
 },
 "nbformat": 4,
 "nbformat_minor": 5
}
